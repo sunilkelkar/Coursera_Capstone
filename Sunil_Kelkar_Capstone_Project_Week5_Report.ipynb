{
 "cells": [
  {
   "cell_type": "markdown",
   "metadata": {
    "collapsed": true
   },
   "source": [
    "## The Battle of the Neighborhoods - Report"
   ]
  },
  {
   "cell_type": "markdown",
   "metadata": {},
   "source": [
    "### Introduction & Business Problem :"
   ]
  },
  {
   "cell_type": "markdown",
   "metadata": {},
   "source": [
    "###  Problem Background:"
   ]
  },
  {
   "cell_type": "markdown",
   "metadata": {},
   "source": [
    "he City of New York, usually called either New York City (NYC) or simply New York (NY), is the most populous city in the United States. With an estimated 2018 population of 8,398,748 distributed over a land area of about 302.6 square miles (784 km2), New York is also the most densely populated major city in the United States.[Ref : https://en.wikipedia.org/wiki/New_York_City] \n",
    "\n",
    "Being a global hub of business and commerce, the city has a major centers for banking and finance, retailing, world trade, transportation, tourism, etc.\n",
    "\n",
    "This also means that the market is highly competitive. As it is highly developed city so cost of doing business is also one of the highest. Thus, any new business venture or expansion needs to be analysed carefully. Proper analysis of data would not only reduce riks of entering new makaket , it will alsp help arrive at the Return on Investment."
   ]
  },
  {
   "cell_type": "markdown",
   "metadata": {},
   "source": [
    "###  Problem Description:"
   ]
  },
  {
   "cell_type": "markdown",
   "metadata": {},
   "source": [
    "With more than 8 million people in New York City, you'd expect some great chow and some culinary diversity – and that's exactly what you get. The city manages to bring dishes from all over the world and make them its own.<Br>\n",
    "Much of the cuisine usually associated with New York City stems in part from its large community of Ashkenazi Jews and their descendants. <Br>\n",
    "\n",
    "Like the Askenazi-Jewish community, much of the cuisine usually associated with New York City stems in part from its large community of Italian-Americans and their descendants. Much of New York City's Italian fare has become popular around the globe, especially New York-style pizza. <Br>\n",
    "\n",
    "Chino-Latino cuisine associated with New York City stems, by and large, to the earliest migration of Chinese migrants to Cuba in the mid-1800s.<Br>\n",
    "    \n",
    "Mobile food vendors - Some 4,000 licensed by the city<Br>\n",
    "\n",
    "The occurrence of the Cuban and Chino fuse, had been established when the Chinese began to migrate to Cuba had been viewed as a unique immersion of a new and diverse part of culture<Br>\n",
    "    \n",
    "\n",
    "So it is evident that to survive in such competitive market, metaculous planning is a must to peneratrate this market. Various factors need to be studied inorder to decide on the Location such as : <Br>\n",
    "1. New York Population <Br>\n",
    "2. New York City Demographics <Br>\n",
    "2. Are there any Vegitable/fruits market, Farmers Markets, Wholesale markets etc nearby so that the ingredients can be purchased fresh to maintain quality and cost?<Br>\n",
    "3. Are there any venues like Gyms, Entertainmnet zones, Parks etc nearby where floating population is high etc <Br>\n",
    "4. Who are the competitors in that location? <Br>\n",
    "5. Cuisine served / Menu of the competitors <Br>\n",
    "6. Segmentation of the Borough <Br>\n",
    "7. Untapped markets <Br>\n",
    "8. Saturated markets etc<Br>\n",
    "The list can go on...\n",
    "    \n",
    "A well funded ABC Company Ltd. needs to choose the precise location to start its first venture. Deciding the first location is cruicial since, if this is successful they can replicating the same in other locations would make sense."
   ]
  },
  {
   "cell_type": "markdown",
   "metadata": {},
   "source": [
    "### Target Audience:"
   ]
  },
  {
   "cell_type": "markdown",
   "metadata": {},
   "source": [
    "To recommend the correct location, ABC Company Ltd has appointed me to lead of the Data Science team. The objective is to locate and recommend to the management which neighborhood of Newyork city will be best choice to start a restaurant. The Management also expects to understand the rationale of the recommendations made.\n",
    "\n",
    "This would interest anyone who wants to start a new restaurant in Newyork city."
   ]
  },
  {
   "cell_type": "markdown",
   "metadata": {},
   "source": [
    "###  Success Criteria:"
   ]
  },
  {
   "cell_type": "markdown",
   "metadata": {},
   "source": [
    "The success criteria of the project will be a good recommendation of borough/Neighborhood choice to ABC Company Ltd based on Lack of such restaurants in that location and nearest suppliers of ingredients."
   ]
  },
  {
   "cell_type": "markdown",
   "metadata": {},
   "source": [
    "### Data :\n",
    "\n",
    "One city will be analysed in this project : ***Newyork City***. \n",
    "\n",
    "We will be using the below datasets for analysing Newyork city\n",
    "\n",
    "***Data 1 :*** \n",
    "Neighborhood has a total of 5 boroughs and 306 neighborhoods. In order to segement the neighborhoods and explore them, we will essentially need a dataset that contains the 5 boroughs and the neighborhoods that exist in each borough as well as the the latitude and logitude coordinates of each neighborhood.\n",
    "\n",
    "This dataset exists for free on the web. Link to the dataset is : https://geo.nyu.edu/catalog/nyu_2451_34572\n",
    "\n",
    "***Data 2 :*** Second data which will be used is the DOHMH Farmers Markets and Food Boxes dataset. In this we will be using the data of Farmers Markets.\n",
    "\n",
    "https://data.world/city-of-ny/8vwk-6iz2/workspace/file?filename=dohmh-farmers-markets-1.csv\n",
    "\n",
    "Website-https://data.world/city-of-ny/8vwk-6iz2 <Br>\n",
    "GrowNYC's Fresh ***Food Box*** Program is a food access initiative that enables under-served communities to purchase fresh, healthy, and primarily regionally grown produce well below traditional retail prices.\n",
    "    \n",
    "A ***farmers' market*** is often defined as a public site used by two or more local or regional producers for the direct sale of farm products to consumers. In addition to fresh fruits and vegetables, markets may sell dairy products, fish, meat, baked goods, and other minimally processed foods.\n",
    "\n",
    "***Data 3 :*** For the below analysis we will get data from wikipedia as given below : <Br>\n",
    "1. New York Population <Br>\n",
    "2. New York City Demographics <Br>\n",
    "3. Cuisine of New York city <Br>\n",
    "    \n",
    "https://en.wikipedia.org/wiki/New_York_City <Br>\n",
    "https://en.wikipedia.org/wiki/Economy_of_New_York_City <Br>\n",
    "https://en.wikipedia.org/wiki/Portal:New_York_City <Br>\n",
    "https://en.wikipedia.org/wiki/Cuisine_of_New_York_City <Br>\n",
    "https://en.wikipedia.org/wiki/List_of_Michelin_starred_restaurants_in_New_York_City"
   ]
  },
  {
   "cell_type": "markdown",
   "metadata": {},
   "source": [
    "##### Image of a farmers market here - farmers-market-1"
   ]
  },
  {
   "cell_type": "markdown",
   "metadata": {},
   "source": [
    "***Data 4 :*** Newyork city geographical coordinates data will be utilized as input for the Foursquare API, that will be leveraged to provision venues information for each neighborhood.We will use the Foursquare API to explore neighborhoods in New York City. The below is image of the Foursquare API data.\n",
    "\n",
    "<a href=\"https://i.imgur.com/MOxxyoY.png \">\n",
    "  <img src=\"https://i.imgur.com/MOxxyoY.png\" alt=\"Data Sample\">\n",
    "</a>"
   ]
  },
  {
   "cell_type": "markdown",
   "metadata": {},
   "source": [
    "### Business Understanding : Our main goal is to get optimum location for new restaurant business in New York City for ABC Company.\n",
    "\n",
    "#### Analytic Approach : \n",
    "\n",
    "New York city neighbourhood  has a total of 5 boroughs and 306 neighborhoods. \n",
    "\n",
    "In this project first part is clustering of Manhattan and Brooklyn.<Br> \n",
    "The second part is clustering of Bronx, Queens and Staten Island.<Br> \n",
    "<Br>\n",
    "This is done because of the following Exploratory data analysis.<Br> \n",
    "<Br>\n",
    "### Exploratory Data Analysis :\n",
    "    \n",
    "### Data 1- New york city Geographical Coordinates Data.<Br>\n",
    "1.In this we load the data and explore data from  newyork_data.json file.<Br> \n",
    "2.Transform the data of nested python dictionaries into a pandas dataframe.<Br> \n",
    "3.This dataframe contains the geographical coordinates of New York city neighborhoods.<Br> \n",
    "4.This data will used to get Venues data from Fouresquare.<Br> \n",
    "5.We used geopy and folium libraries to create a map of New York city with neighborhoods superimposed on top.\n"
   ]
  },
  {
   "cell_type": "markdown",
   "metadata": {},
   "source": [
    "#### IMAGE - Week5-Clustering-4"
   ]
  },
  {
   "cell_type": "markdown",
   "metadata": {},
   "source": [
    "### Data 2- DOHMH Farmers Markets and Food Boxes dataset. <BR>\n",
    "\n",
    "In this we will be using the data of Farmers Markets data. There are totally 162 Farmers Markets in New York city. Highest number are in Manhattan and Brooklyn. And lowest in Queens, Bronx and Staten Island. The proof of this is as given below. "
   ]
  },
  {
   "cell_type": "markdown",
   "metadata": {},
   "source": [
    "#### IMAGE - week5-farmers-2-2"
   ]
  },
  {
   "cell_type": "markdown",
   "metadata": {},
   "source": [
    "#### We used geopy and folium libraries to create a map to visualise farmers markets of  New York city. \n",
    "\n",
    "#### Farmers Market visualisation-New York City"
   ]
  },
  {
   "cell_type": "markdown",
   "metadata": {},
   "source": [
    "#### image - week5-farmers-market-2-23"
   ]
  },
  {
   "cell_type": "markdown",
   "metadata": {},
   "source": [
    "### Data 3 : To analyize New York city Population, Demographics and Cuisine , scrapped the data from Wikipedia pages as given above in the data section. <br>\n",
    "\n",
    "#### 1.New York Population : Insights from the data :Manhattan (New York County) is the geographically smallest and most densely populated borough. <BR>\n",
    "    \n",
    "#### 2. Manhattan's (New York County's) population density of 72,033 people per square mile (27,812/km²) in 2015 makes it the highest of any county in the United States and higher than the density of any individual American city.<BR>\n",
    "    \n",
    "#### 3. Brooklyn (Kings County), on the western tip of Long Island, is the city's most populous borough.Queens (Queens County), on Long Island north and east of Brooklyn, is geographically the largest borough.<br>\n",
    "\n",
    "#### 4. Queens (Queens County), on Long Island north and east of Brooklyn, is geographically the largest borough. \n"
   ]
  },
  {
   "cell_type": "markdown",
   "metadata": {},
   "source": [
    "### Cuisine of New York city : \n",
    "\n",
    "#### This  data has been manually prepared. Data is taken from <br>\n",
    "#### Wikipedia page - https://en.wikipedia.org/wiki/Cuisine_of_New_York_City .<br>\n",
    "#### Using this data we did word cloud. \n",
    "#### NEW YORK CITY CUISINE : Most Preferred Food cuisines in New York City  are Italian, Purto Rican, Mexican, Jewish, Indian, Pakistani & Dominican."
   ]
  },
  {
   "cell_type": "markdown",
   "metadata": {},
   "source": [
    "### Data 4 : NewYork city geographical coordinates data  has  been utilized as input from the Foursquare API, that has been leveraged to provision venues information for each neighborhood. \n",
    "\n",
    "#### We used the Foursquare API data to explore neighborhoods in New York City.  \n",
    "\n",
    "#### Brooklyn and Manhattan Visualization : "
   ]
  },
  {
   "cell_type": "markdown",
   "metadata": {},
   "source": [
    "### Image : Brooklyn and Manhattan Venues.png"
   ]
  },
  {
   "attachments": {},
   "cell_type": "markdown",
   "metadata": {},
   "source": [
    "#### Bronx, Queens and Staten Island Venues Visualization : "
   ]
  },
  {
   "cell_type": "markdown",
   "metadata": {},
   "source": [
    "### Image 2:  Week5-clustering-5A and Week5-clustering-5 [Pl crop the 5A image]"
   ]
  },
  {
   "cell_type": "markdown",
   "metadata": {},
   "source": [
    "## 4.RESULTS : <br>\n",
    "### From this venues data we filtered and used only the restaurant data for Brooklyn & Manhattan clustering as well as  Bronx, Queens and Staten Island clustering. \n",
    "\n",
    "### For this project, we have focussed only on te reshtaurants business.\n",
    "\n",
    "### K-Means clustering algorithm based on mean occurrence of venue category :\n",
    "\n",
    "#### K-means clustering aims to partition n observations into k clusters in which each observation belongs to the cluster with the nearest mean. It uses iterative refinement approach.  \n",
    "\n",
    "### Brooklyn & Manhattan : In the below Map Visualization, we can see the different types of clusters created by using K-Meansfor Brooklyn & Manhattan. "
   ]
  },
  {
   "cell_type": "markdown",
   "metadata": {},
   "source": [
    "### Image week5-clusteringg-3"
   ]
  },
  {
   "cell_type": "markdown",
   "metadata": {},
   "source": [
    "### Cluster 0 : \n",
    "#### The Total and Total Sum of cluster0 has smallest value. It shows that the market is not saturated. \n",
    "### Cluster1 : \n",
    "#### The Total and Total Sum of cluster1 has highest value. It shows that the markets are saturated. Number of restaurants are very high.  There are no untapped neighborhoods in Brooklyn and Manhattan. Bronx, Queens and Staten Island : In the below Map Visualization, we can see the different types of clusters created by using K-Meansfor Bronx, Queens and Staten Island. "
   ]
  },
  {
   "cell_type": "markdown",
   "metadata": {},
   "source": [
    "### Bronx, Queens and Staten Island : In the below Map Visualization, we can see the different types of clusters created by using K-Meansfor Bronx, Queens and Staten Island. "
   ]
  },
  {
   "cell_type": "markdown",
   "metadata": {},
   "source": [
    "### IMAGE Week5- Clustering - 6"
   ]
  },
  {
   "cell_type": "markdown",
   "metadata": {},
   "source": [
    "### Cluster 0 : \n",
    "#### The Total and Total Sum of cluster 0 has smallest value. It shows that the market is not saturated.  There are untapped neighborhoods. \n",
    "\n",
    "        Borough         NeighborhoodLatitude Longitude \t  Total Cluster_Labels\n",
    "    ---------------------------------------------------------------------------\n",
    "    0   Bronx           Clason Point40.806551 \t-73.854144 \t0 \t0\n",
    "    1 \tStaten Island \tTodt Hill \t40.597069 \t-74.111329 \t0 \t0\n",
    "    2 \tStaten Island \tPort Ivory  40.639683 \t-74.174645 \t0 \t0\n",
    "    3 \tStaten Island \tRossville \t40.549404 \t-74.215729 \t0 \t0\n",
    "    4 \tStaten Island \tBloomfield  40.605779 \t-74.187256 \t0 \t0\n"
   ]
  },
  {
   "cell_type": "code",
   "execution_count": null,
   "metadata": {},
   "outputs": [],
   "source": []
  },
  {
   "cell_type": "markdown",
   "metadata": {},
   "source": [
    "### Cluster1 :\n",
    "#### The Total and Total Sum of cluster1 has highest value. It shows that the markets are saturated. Number of restaurants are very high. "
   ]
  },
  {
   "cell_type": "markdown",
   "metadata": {},
   "source": [
    "## 5.DISCUSSION: \n",
    "### 1.There is scope to increase Farmers markets in Bronx, Queens and Staten Island.\n",
    "### 2.There is scope to explore cuisines of various countries in Bronx, Queens and Staten Island. \n",
    "### 3.In Manhattan and Brooklyn restaurants of cuisines of many countries are available. So if risk can be taken with great menu on board. It also shows people love eating cuisines of various countries.\n",
    "\n",
    "## 6.CONCLUSION: \n",
    "\n",
    "### Analysis is performed on limited data.  So the end result may be right or can be away from the best result. If there are lot of restaurants probably there is lot of demand. \n",
    "\n",
    "### Brooklyn and Manhattan has high concentration of restaurant business. Very competitive market. \n",
    "### Bronx, Queens and Staten Island also has good number of restaurants but not as many as required. So this can be explored. As per the neighbourhood or restaurant type mentioned like Italian or  Indian Restaurant analysis can be done. A venue with lowest risk and competition can be identified.  "
   ]
  },
  {
   "cell_type": "code",
   "execution_count": null,
   "metadata": {},
   "outputs": [],
   "source": []
  }
 ],
 "metadata": {
  "kernelspec": {
   "display_name": "Python 3",
   "language": "python",
   "name": "python3"
  },
  "language_info": {
   "codemirror_mode": {
    "name": "ipython",
    "version": 3
   },
   "file_extension": ".py",
   "mimetype": "text/x-python",
   "name": "python",
   "nbconvert_exporter": "python",
   "pygments_lexer": "ipython3",
   "version": "3.7.3"
  }
 },
 "nbformat": 4,
 "nbformat_minor": 1
}
