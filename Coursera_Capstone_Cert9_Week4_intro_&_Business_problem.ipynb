{
 "cells": [
  {
   "cell_type": "markdown",
   "metadata": {
    "collapsed": true
   },
   "source": [
    "## Coursera_Capstone_Cert9_Week4_intro_and_Business_problem"
   ]
  },
  {
   "cell_type": "markdown",
   "metadata": {},
   "source": [
    "### Introduction & Business Problem :"
   ]
  },
  {
   "cell_type": "markdown",
   "metadata": {},
   "source": [
    "###  Problem Background:"
   ]
  },
  {
   "cell_type": "markdown",
   "metadata": {},
   "source": [
    "he City of New York, usually called either New York City (NYC) or simply New York (NY), is the most populous city in the United States. With an estimated 2018 population of 8,398,748 distributed over a land area of about 302.6 square miles (784 km2), New York is also the most densely populated major city in the United States.[Ref : https://en.wikipedia.org/wiki/New_York_City] \n",
    "\n",
    "Being a global hub of business and commerce, the city has a major centers for banking and finance, retailing, world trade, transportation, tourism, etc.\n",
    "\n",
    "This also means that the market is highly competitive. As it is highly developed city so cost of doing business is also one of the highest. Thus, any new business venture or expansion needs to be analysed carefully. Proper analysis of data would not only reduce riks of entering new makaket , it will alsp help arrive at the Return on Investment."
   ]
  },
  {
   "cell_type": "markdown",
   "metadata": {},
   "source": [
    "###  Problem Description:"
   ]
  },
  {
   "cell_type": "markdown",
   "metadata": {},
   "source": [
    "With more than 8 million people in New York City, you'd expect some great chow and some culinary diversity – and that's exactly what you get. The city manages to bring dishes from all over the world and make them its own.<Br>\n",
    "Much of the cuisine usually associated with New York City stems in part from its large community of Ashkenazi Jews and their descendants. <Br>\n",
    "\n",
    "Like the Askenazi-Jewish community, much of the cuisine usually associated with New York City stems in part from its large community of Italian-Americans and their descendants. Much of New York City's Italian fare has become popular around the globe, especially New York-style pizza. <Br>\n",
    "\n",
    "Chino-Latino cuisine associated with New York City stems, by and large, to the earliest migration of Chinese migrants to Cuba in the mid-1800s.<Br>\n",
    "    \n",
    "Mobile food vendors - Some 4,000 licensed by the city<Br>\n",
    "\n",
    "The occurrence of the Cuban and Chino fuse, had been established when the Chinese began to migrate to Cuba had been viewed as a unique immersion of a new and diverse part of culture<Br>\n",
    "    \n",
    "\n",
    "So it is evident that to survive in such competitive market, metaculous planning is a must to peneratrate this market. Various factors need to be studied inorder to decide on the Location such as : <Br>\n",
    "1. New York Population <Br>\n",
    "2. New York City Demographics <Br>\n",
    "2. Are there any Vegitable/fruits market, Farmers Markets, Wholesale markets etc nearby so that the ingredients can be purchased fresh to maintain quality and cost?<Br>\n",
    "3. Are there any venues like Gyms, Entertainmnet zones, Parks etc nearby where floating population is high etc <Br>\n",
    "4. Who are the competitors in that location? <Br>\n",
    "5. Cuisine served / Menu of the competitors <Br>\n",
    "6. Segmentation of the Borough <Br>\n",
    "7. Untapped markets <Br>\n",
    "8. Saturated markets etc<Br>\n",
    "The list can go on...\n",
    "    \n",
    "A well funded ABC Company Ltd. needs to choose the precise location to start its first venture. Deciding the first location is cruicial since, if this is successful they can replicating the same in other locations would make sense."
   ]
  },
  {
   "cell_type": "markdown",
   "metadata": {},
   "source": [
    "### Target Audience:"
   ]
  },
  {
   "cell_type": "markdown",
   "metadata": {},
   "source": [
    "To recommend the correct location, ABC Company Ltd has appointed me to lead of the Data Science team. The objective is to locate and recommend to the management which neighborhood of Newyork city will be best choice to start a restaurant. The Management also expects to understand the rationale of the recommendations made.\n",
    "\n",
    "This would interest anyone who wants to start a new restaurant in Newyork city."
   ]
  },
  {
   "cell_type": "markdown",
   "metadata": {},
   "source": [
    "###  Success Criteria:"
   ]
  },
  {
   "cell_type": "markdown",
   "metadata": {},
   "source": [
    "The success criteria of the project will be a good recommendation of borough/Neighborhood choice to ABC Company Ltd based on Lack of such restaurants in that location and nearest suppliers of ingredients."
   ]
  }
 ],
 "metadata": {
  "kernelspec": {
   "display_name": "Python 3",
   "language": "python",
   "name": "python3"
  },
  "language_info": {
   "codemirror_mode": {
    "name": "ipython",
    "version": 3
   },
   "file_extension": ".py",
   "mimetype": "text/x-python",
   "name": "python",
   "nbconvert_exporter": "python",
   "pygments_lexer": "ipython3",
   "version": "3.7.3"
  }
 },
 "nbformat": 4,
 "nbformat_minor": 1
}
